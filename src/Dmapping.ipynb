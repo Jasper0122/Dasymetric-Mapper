{
 "cells": [
  {
   "cell_type": "code",
   "execution_count": 5,
   "id": "initial_id",
   "metadata": {
    "collapsed": true,
    "ExecuteTime": {
     "end_time": "2024-06-27T21:13:48.791555400Z",
     "start_time": "2024-06-27T21:13:48.760558400Z"
    }
   },
   "outputs": [
    {
     "ename": "ImportError",
     "evalue": "DLL load failed while importing lib: The specified procedure could not be found.",
     "output_type": "error",
     "traceback": [
      "\u001B[1;31m---------------------------------------------------------------------------\u001B[0m",
      "\u001B[1;31mImportError\u001B[0m                               Traceback (most recent call last)",
      "\u001B[1;32m~\\AppData\\Local\\Temp\\ipykernel_16852\\1077047200.py\u001B[0m in \u001B[0;36m<cell line: 5>\u001B[1;34m()\u001B[0m\n\u001B[0;32m      3\u001B[0m \u001B[1;32mfrom\u001B[0m \u001B[0marcpy\u001B[0m\u001B[1;33m.\u001B[0m\u001B[0msa\u001B[0m \u001B[1;32mimport\u001B[0m \u001B[1;33m*\u001B[0m\u001B[1;33m\u001B[0m\u001B[1;33m\u001B[0m\u001B[0m\n\u001B[0;32m      4\u001B[0m \u001B[1;32mfrom\u001B[0m \u001B[0marcgis\u001B[0m\u001B[1;33m.\u001B[0m\u001B[0mgis\u001B[0m \u001B[1;32mimport\u001B[0m \u001B[0mGIS\u001B[0m\u001B[1;33m\u001B[0m\u001B[1;33m\u001B[0m\u001B[0m\n\u001B[1;32m----> 5\u001B[1;33m \u001B[1;32mimport\u001B[0m \u001B[0mgeopandas\u001B[0m \u001B[1;32mas\u001B[0m \u001B[0mgpd\u001B[0m\u001B[1;33m\u001B[0m\u001B[1;33m\u001B[0m\u001B[0m\n\u001B[0m\u001B[0;32m      6\u001B[0m \u001B[1;32mimport\u001B[0m \u001B[0mmatplotlib\u001B[0m\u001B[1;33m.\u001B[0m\u001B[0mpyplot\u001B[0m \u001B[1;32mas\u001B[0m \u001B[0mplt\u001B[0m\u001B[1;33m\u001B[0m\u001B[1;33m\u001B[0m\u001B[0m\n",
      "\u001B[1;32mD:\\Program Files\\ArcGIS\\Pro\\bin\\Python\\envs\\arcgispro-py3\\lib\\site-packages\\geopandas\\__init__.py\u001B[0m in \u001B[0;36m<module>\u001B[1;34m\u001B[0m\n\u001B[1;32m----> 1\u001B[1;33m \u001B[1;32mfrom\u001B[0m \u001B[0mgeopandas\u001B[0m\u001B[1;33m.\u001B[0m\u001B[0m_config\u001B[0m \u001B[1;32mimport\u001B[0m \u001B[0moptions\u001B[0m\u001B[1;33m\u001B[0m\u001B[1;33m\u001B[0m\u001B[0m\n\u001B[0m\u001B[0;32m      2\u001B[0m \u001B[1;33m\u001B[0m\u001B[0m\n\u001B[0;32m      3\u001B[0m \u001B[1;32mfrom\u001B[0m \u001B[0mgeopandas\u001B[0m\u001B[1;33m.\u001B[0m\u001B[0mgeoseries\u001B[0m \u001B[1;32mimport\u001B[0m \u001B[0mGeoSeries\u001B[0m\u001B[1;33m\u001B[0m\u001B[1;33m\u001B[0m\u001B[0m\n\u001B[0;32m      4\u001B[0m \u001B[1;32mfrom\u001B[0m \u001B[0mgeopandas\u001B[0m\u001B[1;33m.\u001B[0m\u001B[0mgeodataframe\u001B[0m \u001B[1;32mimport\u001B[0m \u001B[0mGeoDataFrame\u001B[0m\u001B[1;33m\u001B[0m\u001B[1;33m\u001B[0m\u001B[0m\n\u001B[0;32m      5\u001B[0m \u001B[1;32mfrom\u001B[0m \u001B[0mgeopandas\u001B[0m\u001B[1;33m.\u001B[0m\u001B[0marray\u001B[0m \u001B[1;32mimport\u001B[0m \u001B[0mpoints_from_xy\u001B[0m\u001B[1;33m\u001B[0m\u001B[1;33m\u001B[0m\u001B[0m\n",
      "\u001B[1;32mD:\\Program Files\\ArcGIS\\Pro\\bin\\Python\\envs\\arcgispro-py3\\lib\\site-packages\\geopandas\\_config.py\u001B[0m in \u001B[0;36m<module>\u001B[1;34m\u001B[0m\n\u001B[0;32m    107\u001B[0m use_pygeos = Option(\n\u001B[0;32m    108\u001B[0m     \u001B[0mkey\u001B[0m\u001B[1;33m=\u001B[0m\u001B[1;34m\"use_pygeos\"\u001B[0m\u001B[1;33m,\u001B[0m\u001B[1;33m\u001B[0m\u001B[1;33m\u001B[0m\u001B[0m\n\u001B[1;32m--> 109\u001B[1;33m     \u001B[0mdefault_value\u001B[0m\u001B[1;33m=\u001B[0m\u001B[0m_default_use_pygeos\u001B[0m\u001B[1;33m(\u001B[0m\u001B[1;33m)\u001B[0m\u001B[1;33m,\u001B[0m\u001B[1;33m\u001B[0m\u001B[1;33m\u001B[0m\u001B[0m\n\u001B[0m\u001B[0;32m    110\u001B[0m     doc=(\n\u001B[0;32m    111\u001B[0m         \u001B[1;34m\"Whether to use PyGEOS to speed up spatial operations. The default is True \"\u001B[0m\u001B[1;33m\u001B[0m\u001B[1;33m\u001B[0m\u001B[0m\n",
      "\u001B[1;32mD:\\Program Files\\ArcGIS\\Pro\\bin\\Python\\envs\\arcgispro-py3\\lib\\site-packages\\geopandas\\_config.py\u001B[0m in \u001B[0;36m_default_use_pygeos\u001B[1;34m()\u001B[0m\n\u001B[0;32m     93\u001B[0m \u001B[1;33m\u001B[0m\u001B[0m\n\u001B[0;32m     94\u001B[0m \u001B[1;32mdef\u001B[0m \u001B[0m_default_use_pygeos\u001B[0m\u001B[1;33m(\u001B[0m\u001B[1;33m)\u001B[0m\u001B[1;33m:\u001B[0m\u001B[1;33m\u001B[0m\u001B[1;33m\u001B[0m\u001B[0m\n\u001B[1;32m---> 95\u001B[1;33m     \u001B[1;32mimport\u001B[0m \u001B[0mgeopandas\u001B[0m\u001B[1;33m.\u001B[0m\u001B[0m_compat\u001B[0m \u001B[1;32mas\u001B[0m \u001B[0mcompat\u001B[0m\u001B[1;33m\u001B[0m\u001B[1;33m\u001B[0m\u001B[0m\n\u001B[0m\u001B[0;32m     96\u001B[0m \u001B[1;33m\u001B[0m\u001B[0m\n\u001B[0;32m     97\u001B[0m     \u001B[1;32mreturn\u001B[0m \u001B[0mcompat\u001B[0m\u001B[1;33m.\u001B[0m\u001B[0mUSE_PYGEOS\u001B[0m\u001B[1;33m\u001B[0m\u001B[1;33m\u001B[0m\u001B[0m\n",
      "\u001B[1;32mD:\\Program Files\\ArcGIS\\Pro\\bin\\Python\\envs\\arcgispro-py3\\lib\\site-packages\\geopandas\\_compat.py\u001B[0m in \u001B[0;36m<module>\u001B[1;34m\u001B[0m\n\u001B[0;32m      7\u001B[0m \u001B[1;32mimport\u001B[0m \u001B[0mnumpy\u001B[0m \u001B[1;32mas\u001B[0m \u001B[0mnp\u001B[0m\u001B[1;33m\u001B[0m\u001B[1;33m\u001B[0m\u001B[0m\n\u001B[0;32m      8\u001B[0m \u001B[1;32mimport\u001B[0m \u001B[0mpandas\u001B[0m \u001B[1;32mas\u001B[0m \u001B[0mpd\u001B[0m\u001B[1;33m\u001B[0m\u001B[1;33m\u001B[0m\u001B[0m\n\u001B[1;32m----> 9\u001B[1;33m \u001B[1;32mimport\u001B[0m \u001B[0mshapely\u001B[0m\u001B[1;33m\u001B[0m\u001B[1;33m\u001B[0m\u001B[0m\n\u001B[0m\u001B[0;32m     10\u001B[0m \u001B[1;32mimport\u001B[0m \u001B[0mshapely\u001B[0m\u001B[1;33m.\u001B[0m\u001B[0mgeos\u001B[0m\u001B[1;33m\u001B[0m\u001B[1;33m\u001B[0m\u001B[0m\n\u001B[0;32m     11\u001B[0m \u001B[1;33m\u001B[0m\u001B[0m\n",
      "\u001B[1;32mD:\\Program Files\\ArcGIS\\Pro\\bin\\Python\\envs\\arcgispro-py3\\lib\\site-packages\\shapely\\__init__.py\u001B[0m in \u001B[0;36m<module>\u001B[1;34m\u001B[0m\n\u001B[1;32m----> 1\u001B[1;33m \u001B[1;32mfrom\u001B[0m \u001B[1;33m.\u001B[0m\u001B[0mlib\u001B[0m \u001B[1;32mimport\u001B[0m \u001B[0mGEOSException\u001B[0m  \u001B[1;31m# NOQA\u001B[0m\u001B[1;33m\u001B[0m\u001B[1;33m\u001B[0m\u001B[0m\n\u001B[0m\u001B[0;32m      2\u001B[0m \u001B[1;32mfrom\u001B[0m \u001B[1;33m.\u001B[0m\u001B[0mlib\u001B[0m \u001B[1;32mimport\u001B[0m \u001B[0mGeometry\u001B[0m  \u001B[1;31m# NOQA\u001B[0m\u001B[1;33m\u001B[0m\u001B[1;33m\u001B[0m\u001B[0m\n\u001B[0;32m      3\u001B[0m \u001B[1;32mfrom\u001B[0m \u001B[1;33m.\u001B[0m\u001B[0mlib\u001B[0m \u001B[1;32mimport\u001B[0m \u001B[0mgeos_version\u001B[0m\u001B[1;33m,\u001B[0m \u001B[0mgeos_version_string\u001B[0m  \u001B[1;31m# NOQA\u001B[0m\u001B[1;33m\u001B[0m\u001B[1;33m\u001B[0m\u001B[0m\n\u001B[0;32m      4\u001B[0m \u001B[1;32mfrom\u001B[0m \u001B[1;33m.\u001B[0m\u001B[0mlib\u001B[0m \u001B[1;32mimport\u001B[0m \u001B[0mgeos_capi_version\u001B[0m\u001B[1;33m,\u001B[0m \u001B[0mgeos_capi_version_string\u001B[0m  \u001B[1;31m# NOQA\u001B[0m\u001B[1;33m\u001B[0m\u001B[1;33m\u001B[0m\u001B[0m\n\u001B[0;32m      5\u001B[0m \u001B[1;32mfrom\u001B[0m \u001B[1;33m.\u001B[0m\u001B[0merrors\u001B[0m \u001B[1;32mimport\u001B[0m \u001B[0msetup_signal_checks\u001B[0m  \u001B[1;31m# NOQA\u001B[0m\u001B[1;33m\u001B[0m\u001B[1;33m\u001B[0m\u001B[0m\n",
      "\u001B[1;31mImportError\u001B[0m: DLL load failed while importing lib: The specified procedure could not be found."
     ]
    }
   ],
   "source": [
    "import arcpy\n",
    "from arcpy import env\n",
    "from arcpy.sa import *\n",
    "from arcgis.gis import GIS\n",
    "import geopandas as gpd\n",
    "import matplotlib.pyplot as plt"
   ]
  },
  {
   "cell_type": "code",
   "outputs": [
    {
     "data": {
      "text/plain": "<Result 'D:/SSCI/StoryMAP/DMaping/DemoData\\\\MyNewGeodatabase.gdb'>",
      "text/html": "<div class='gpresult'><h2>Messages</h2><div id='messages' data-messages='[\"Start Time: 2024年6月27日 14:08:18\",\"Succeeded at 2024年6月27日 14:08:18 (Elapsed Time: 0.13 seconds)\"]' data-show='true'><div id = 'default' /></div></div>"
     },
     "execution_count": 3,
     "metadata": {},
     "output_type": "execute_result"
    }
   ],
   "source": [
    "# 设置工作空间\n",
    "arcpy.env.workspace = \"D:/SSCI/StoryMAP/DMaping/DemoData\"\n",
    "env.overwriteOutput = True\n",
    "\n",
    "#建立地理数据库\n",
    "gdb_name = \"MyNewGeodatabase.gdb\"\n",
    "arcpy.CreateFileGDB_management(env.workspace, gdb_name)"
   ],
   "metadata": {
    "collapsed": false,
    "ExecuteTime": {
     "end_time": "2024-06-27T21:08:18.593551500Z",
     "start_time": "2024-06-27T21:08:18.398962700Z"
    }
   },
   "id": "6c3ab3728fa65072",
   "execution_count": 3
  },
  {
   "cell_type": "code",
   "outputs": [
    {
     "ename": "NameError",
     "evalue": "name 'plt' is not defined",
     "output_type": "error",
     "traceback": [
      "\u001B[1;31m---------------------------------------------------------------------------\u001B[0m",
      "\u001B[1;31mNameError\u001B[0m                                 Traceback (most recent call last)",
      "\u001B[1;32m~\\AppData\\Local\\Temp\\ipykernel_16852\\1878472930.py\u001B[0m in \u001B[0;36m<cell line: 6>\u001B[1;34m()\u001B[0m\n\u001B[0;32m      4\u001B[0m \u001B[1;33m\u001B[0m\u001B[0m\n\u001B[0;32m      5\u001B[0m \u001B[1;31m# 设置地图底板\u001B[0m\u001B[1;33m\u001B[0m\u001B[1;33m\u001B[0m\u001B[0m\n\u001B[1;32m----> 6\u001B[1;33m \u001B[0mfig\u001B[0m\u001B[1;33m,\u001B[0m \u001B[0max\u001B[0m \u001B[1;33m=\u001B[0m \u001B[0mplt\u001B[0m\u001B[1;33m.\u001B[0m\u001B[0msubplots\u001B[0m\u001B[1;33m(\u001B[0m\u001B[0mfigsize\u001B[0m\u001B[1;33m=\u001B[0m\u001B[1;33m(\u001B[0m\u001B[1;36m10\u001B[0m\u001B[1;33m,\u001B[0m \u001B[1;36m10\u001B[0m\u001B[1;33m)\u001B[0m\u001B[1;33m)\u001B[0m\u001B[1;33m\u001B[0m\u001B[1;33m\u001B[0m\u001B[0m\n\u001B[0m\u001B[0;32m      7\u001B[0m \u001B[1;33m\u001B[0m\u001B[0m\n\u001B[0;32m      8\u001B[0m \u001B[1;31m# 绘制数据\u001B[0m\u001B[1;33m\u001B[0m\u001B[1;33m\u001B[0m\u001B[0m\n",
      "\u001B[1;31mNameError\u001B[0m: name 'plt' is not defined"
     ]
    }
   ],
   "source": [
    "# 加载数据\n",
    "block_shapefile = \"Block.shp\"\n",
    "maui_land_cover_shapefile = \"MauiLandCover.shp\"\n",
    "\n",
    "# 设置地图底板\n",
    "fig, ax = plt.subplots(figsize=(10, 10))\n",
    "\n",
    "# 绘制数据\n",
    "block_shapefile.plot(ax=ax, color='blue', alpha=0.5, edgecolor='k', label='Block')\n",
    "maui_land_cover_shapefile.plot(ax=ax, color='green', alpha=0.5, label='Maui Land Cover')\n",
    "\n",
    "# 设置标题和图例\n",
    "plt.title('Block and Maui Land Cover Map')\n",
    "plt.legend()\n",
    "\n",
    "# 显示图表\n",
    "plt.show()"
   ],
   "metadata": {
    "collapsed": false,
    "ExecuteTime": {
     "end_time": "2024-06-27T21:13:31.608672Z",
     "start_time": "2024-06-27T21:13:31.593667100Z"
    }
   },
   "id": "6f2ca592d1401f95",
   "execution_count": 4
  },
  {
   "cell_type": "code",
   "outputs": [],
   "source": [
    "#添加“RA”字段\n",
    "arcpy.AddField_management(\"MauiLandCover.shp\", \"RA\", \"SHORT\")\n",
    "\n",
    "land_use_weights = {\n",
    "    \"High Intensity Developed\": 46,\n",
    "    \"Open Space Developed\": 26,\n",
    "    \"Cultivated Land\": 10,\n",
    "    \"Pasture or Hay\": 5,\n",
    "    \"Grassland\": 4,\n",
    "    \"Evergreen Forest\": 3,\n",
    "    \"Scrub Shrub\": 3,\n",
    "    \"Palustrine Forested Wetland\": 1,\n",
    "    \"Palustrine Scrub Shrub Wetland\": 1,\n",
    "    \"Palustrine Emergent Wetland\": 1,\n",
    "    \"Unconsolidated Shore\": 0,\n",
    "    \"Bare Land\": 0,\n",
    "    \"Open Water\": 0,\n",
    "    \"Palustrine Aquatic Bed\": 0\n",
    "}\n",
    "\n",
    "with arcpy.da.UpdateCursor(\"MauiLandCover.shp\", [\"LandCoverType\", \"RA\"]) as cursor:\n",
    "    for row in cursor:\n",
    "        land_cover_type = row[0]\n",
    "        if land_cover_type in land_use_weights:\n",
    "            row[1] = land_use_weights[land_cover_type]\n",
    "        else:\n",
    "            row[1] = 0  # 默认值，如果类型不在字典里\n",
    "        cursor.updateRow(row)"
   ],
   "metadata": {
    "collapsed": false
   },
   "id": "7321106ffdefbb07"
  },
  {
   "cell_type": "markdown",
   "source": [
    "将MauiLandcover中的“RA”字段和“gridcode”字段使用feature to raster工具转换成两个raster"
   ],
   "metadata": {
    "collapsed": false
   },
   "id": "2652269e99325109"
  },
  {
   "cell_type": "code",
   "outputs": [],
   "source": [
    "# 指定输入的 shapefile\n",
    "input_feature = \"MauiLandCover.shp\"\n",
    "\n",
    "# 设置输出栅格的分辨率\n",
    "cell_size = 20\n",
    "\n",
    "# 转换 'RA' 字段到栅格\n",
    "ra_raster_output = \"RA_Raster.tif\"\n",
    "arcpy.FeatureToRaster_conversion(input_feature, \"RA\", ra_raster_output, cell_size)\n",
    "\n",
    "# 转换 'gridcode' 字段到栅格\n",
    "gridcode_raster_output = \"GridCode_Raster.tif\"\n",
    "arcpy.FeatureToRaster_conversion(input_feature, \"gridcode\", gridcode_raster_output, cell_size)"
   ],
   "metadata": {
    "collapsed": false
   },
   "id": "6da1041b52ea9191"
  },
  {
   "cell_type": "markdown",
   "source": [
    "将Maui Block中字段“OBJECTID”和“Total Population”字段用feature to raster转换为栅格"
   ],
   "metadata": {
    "collapsed": false
   },
   "id": "39c987180b0f569b"
  },
  {
   "cell_type": "code",
   "outputs": [],
   "source": [
    "# 输入 Shapefile\n",
    "input_feature = \"Block.shp\"\n",
    "\n",
    "# 设置输出栅格的分辨率\n",
    "cell_size = 20  # 根据需要调整分辨率\n",
    "\n",
    "# 转换 'OBJECTID' 字段到栅格\n",
    "objectid_raster_output = \"ObjectID_Raster.tif\"\n",
    "arcpy.FeatureToRaster_conversion(input_feature, \"OBJECTID\", objectid_raster_output, cell_size)\n",
    "\n",
    "# 转换 'Total Population' 字段到栅格\n",
    "total_pop_raster_output = \"TotalPopulation_Raster.tif\"\n",
    "arcpy.FeatureToRaster_conversion(input_feature, \"Total Population\", total_pop_raster_output, cell_size)\n"
   ],
   "metadata": {
    "collapsed": false
   },
   "id": "787c1c958053d770"
  },
  {
   "cell_type": "code",
   "outputs": [],
   "source": [
    "# 处理Land Cover数据并展示\n",
    "tab_area = TabulateArea(\"Block_ID_Raster\", \"Value\", \"Maui_Landcover\", \"Value\", \"Tabulate_Area_Result\")\n",
    "mapview.add_layer(tab_area)  # 添加处理结果到地图\n",
    "\n",
    "# 计算人口密度并展示\n",
    "population_density = (Raster(\"RA\") * Raster(\"Pop_Raster\") * 400) / (Raster(\"Total_Pixel_Raster\") * Raster(\"Expected_Pop_Raster\"))\n",
    "population_density.save(\"Population_Density_Raster\")\n",
    "mapview.add_layer(\"Population_Density_Raster\")  # 展示人口密度结果"
   ],
   "metadata": {
    "collapsed": false
   },
   "id": "a6338a5accf2e223"
  }
 ],
 "metadata": {
  "kernelspec": {
   "display_name": "Python 3",
   "language": "python",
   "name": "python3"
  },
  "language_info": {
   "codemirror_mode": {
    "name": "ipython",
    "version": 2
   },
   "file_extension": ".py",
   "mimetype": "text/x-python",
   "name": "python",
   "nbconvert_exporter": "python",
   "pygments_lexer": "ipython2",
   "version": "2.7.6"
  }
 },
 "nbformat": 4,
 "nbformat_minor": 5
}
